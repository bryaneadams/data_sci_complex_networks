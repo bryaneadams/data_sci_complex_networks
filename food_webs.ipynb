{
 "cells": [
  {
   "cell_type": "markdown",
   "metadata": {},
   "source": [
    "### Basic introduction\n",
    "\n",
    "#### Adjacency Matrix"
   ]
  },
  {
   "cell_type": "code",
   "execution_count": 5,
   "metadata": {},
   "outputs": [],
   "source": [
    "adjacency_matrix = [[0,1,0,1],[1,0,1,1],[0,1,0,0],[1,1,0,0]]\n",
    "adjacency_matrix_directed = [[0,1,0,1],[0,0,1,0],[0,0,0,1],[0,0,0,0]]"
   ]
  },
  {
   "cell_type": "markdown",
   "metadata": {},
   "source": [
    "Some terms used in the textbook\n",
    "\n",
    "**measure** = the number of vertices in the graph\n",
    "\n",
    "**size** = the number of edges in the graph"
   ]
  },
  {
   "cell_type": "markdown",
   "metadata": {},
   "source": [
    "#### Some basic statistics"
   ]
  },
  {
   "cell_type": "code",
   "execution_count": 7,
   "metadata": {},
   "outputs": [
    {
     "data": {
      "text/plain": [
       "4"
      ]
     },
     "execution_count": 7,
     "metadata": {},
     "output_type": "execute_result"
    }
   ],
   "source": [
    "num_species=len(adjacency_matrix_directed[0])\n",
    "num_species"
   ]
  },
  {
   "cell_type": "code",
   "execution_count": 9,
   "metadata": {},
   "outputs": [
    {
     "data": {
      "text/plain": [
       "4"
      ]
     },
     "execution_count": 9,
     "metadata": {},
     "output_type": "execute_result"
    }
   ],
   "source": [
    "# number of links or predations (or edges) in the non zero elements\n",
    "# of the adjacency matrix\n",
    "num_predations = 0\n",
    "for i in range(num_species):\n",
    "    for j in range(num_species):\n",
    "        if adjacency_matrix_directed[i][j]!=0:\n",
    "            num_predations+=1\n",
    "\n",
    "num_predations"
   ]
  },
  {
   "cell_type": "code",
   "execution_count": 13,
   "metadata": {},
   "outputs": [],
   "source": [
    "row_sums=[0,0,0,0]\n",
    "column_sums=[0,0,0,0]\n",
    "for i in range(num_species):\n",
    "    for j in range(num_species):\n",
    "        row_sums[i]+=adjacency_matrix_directed[i][j]\n",
    "        column_sums[j]+=adjacency_matrix_directed[i][j]"
   ]
  },
  {
   "cell_type": "markdown",
   "metadata": {},
   "source": [
    "Classes of species:\n",
    "\n",
    "Basal:  Only predators\n",
    "\n",
    "Top:  Only prey\n",
    "\n",
    "Intermediate:  Both"
   ]
  },
  {
   "cell_type": "code",
   "execution_count": 20,
   "metadata": {},
   "outputs": [
    {
     "name": "stdout",
     "output_type": "stream",
     "text": [
      "Class sizes:  \n",
      " Basal: 1 \n",
      " Top: 1 \n",
      " Intermediate: 2\n"
     ]
    }
   ],
   "source": [
    "basal=0\n",
    "top=0\n",
    "intermediate=0\n",
    "for i in range(num_species):\n",
    "    if row_sums[i]==0 and column_sums[i]>0:\n",
    "        basal+=1\n",
    "    elif row_sums[i]>0 and column_sums[i]:\n",
    "        intermediate+=1\n",
    "    else:\n",
    "        top+=1\n",
    "\n",
    "print(\"Class sizes:  \\n Basal: {} \\n Top: {} \\n Intermediate: {}\".format(basal, top, intermediate))"
   ]
  },
  {
   "cell_type": "markdown",
   "metadata": {},
   "source": [
    "### Degree node calculations using networkX"
   ]
  },
  {
   "cell_type": "code",
   "execution_count": 21,
   "metadata": {},
   "outputs": [],
   "source": [
    "import networkx as nx"
   ]
  },
  {
   "cell_type": "code",
   "execution_count": 22,
   "metadata": {},
   "outputs": [],
   "source": [
    "# generate graph\n",
    "G=nx.Graph()\n",
    "for i in [1,2,3,4]:\n",
    "    G.add_node(i)"
   ]
  },
  {
   "cell_type": "code",
   "execution_count": 24,
   "metadata": {},
   "outputs": [],
   "source": [
    "G.add_edge(1,2)\n",
    "G.add_edge(1,4)\n",
    "G.add_edge(2,3)\n",
    "G.add_edge(2,4)"
   ]
  },
  {
   "cell_type": "code",
   "execution_count": 25,
   "metadata": {},
   "outputs": [
    {
     "data": {
      "text/plain": [
       "3"
      ]
     },
     "execution_count": 25,
     "metadata": {},
     "output_type": "execute_result"
    }
   ],
   "source": [
    "G.degree(2)"
   ]
  },
  {
   "cell_type": "code",
   "execution_count": null,
   "metadata": {},
   "outputs": [],
   "source": []
  }
 ],
 "metadata": {
  "kernelspec": {
   "display_name": ".venv",
   "language": "python",
   "name": "python3"
  },
  "language_info": {
   "codemirror_mode": {
    "name": "ipython",
    "version": 3
   },
   "file_extension": ".py",
   "mimetype": "text/x-python",
   "name": "python",
   "nbconvert_exporter": "python",
   "pygments_lexer": "ipython3",
   "version": "3.11.4"
  },
  "orig_nbformat": 4
 },
 "nbformat": 4,
 "nbformat_minor": 2
}
