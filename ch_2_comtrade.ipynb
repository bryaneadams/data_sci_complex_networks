{
 "cells": [
  {
   "cell_type": "markdown",
   "metadata": {},
   "source": [
    "### Network Symmetrization  "
   ]
  },
  {
   "cell_type": "code",
   "execution_count": 2,
   "metadata": {},
   "outputs": [],
   "source": [
    "import networkx as nx\n",
    "import numpy as np"
   ]
  },
  {
   "cell_type": "code",
   "execution_count": 3,
   "metadata": {},
   "outputs": [],
   "source": [
    "def net_symmetrization(file:str, excluded_countries:list=[]):\n",
    "    dg = nx.DiGraph()\n",
    "\n",
    "    #These are the field positions in the data\n",
    "    reporter_pos = 1\n",
    "    partner_pos = 3\n",
    "    flow_code_pos = 2\n",
    "    value_pos = 9\n",
    "\n",
    "    dic_trade_flows = {}\n",
    "    hfile = open(file,'r')\n",
    "\n",
    "    header = hfile.readline()\n",
    "    lines = hfile.readlines()\n",
    "\n",
    "    for l in lines:\n",
    "        \n",
    "        l_split = l.split(',')\n",
    "        \n",
    "        if len(l_split)<2: continue\n",
    "\n",
    "        reporter = int(l_split[reporter_pos])\n",
    "        partner = int(l_split[partner_pos])\n",
    "        flow_code = int(l_split[flow_code_pos])\n",
    "        value = float(l_split[value_pos])\n",
    "\n",
    "        if reporter in excluded_countries or \\\n",
    "            partner in excluded_countries or \\\n",
    "                reporter == partner: continue\n",
    "\n",
    "        if flow_code == 1 and value > 0:\n",
    "            # 1=import and 2=export\n",
    "            if (partner, reporter, 2) in dic_trade_flows:\n",
    "                dg[partner][reporter]['weight'] = \\\n",
    "                    (dg[partner][reporter]['weight'] + value)/2\n",
    "            else:\n",
    "                dg.add_edge(partner, reporter, weight = value)\n",
    "                dic_trade_flows[(partner, reporter, 1)] = value\n",
    "\n",
    "        elif flow_code == 2 and value > 0:\n",
    "            if (reporter, partner, 1) in dic_trade_flows:\n",
    "                dg[reporter][partner]['weight'] = \\\n",
    "                    (dg[reporter][partner]['weight'] + value)/2\n",
    "            else:\n",
    "                dg.add_edge(reporter, partner, weight = value)\n",
    "                dic_trade_flows[(reporter, partner, 2)] = value\n",
    "        else: print('Trade flow no present\\n')\n",
    "\n",
    "    hfile.close()\n",
    "\n",
    "    return dg"
   ]
  },
  {
   "cell_type": "markdown",
   "metadata": {},
   "source": [
    "### Generate the aggregate network"
   ]
  },
  {
   "cell_type": "code",
   "execution_count": 41,
   "metadata": {},
   "outputs": [],
   "source": [
    "excluded_countries = [472,899,471,129,221,97,697,492,838,473,536,637,290, \\\n",
    "                      527, 577, 490, 568, 636, 839, 879, 0]"
   ]
  },
  {
   "cell_type": "code",
   "execution_count": 42,
   "metadata": {},
   "outputs": [
    {
     "name": "stdout",
     "output_type": "stream",
     "text": [
      "232\n",
      "27901\n"
     ]
    }
   ],
   "source": [
    "dg = net_symmetrization(\"data/comtrade_trade_data_total_2003.csv\", \\\n",
    "                        excluded_countries)\n",
    "print(dg.number_of_nodes())\n",
    "print(dg.number_of_edges())"
   ]
  },
  {
   "cell_type": "markdown",
   "metadata": {},
   "source": [
    "#### Test calculation of reciprocity\n",
    "\n",
    "First I will create an adjacency matrix using numpy array, than use the `nx.from_numpy_array` to create the directed graph"
   ]
  },
  {
   "cell_type": "code",
   "execution_count": 7,
   "metadata": {},
   "outputs": [],
   "source": [
    "A = np.array([[0,1,1,0], [0,0,0,1],[1,0,0,1],[1,1,0,0]])"
   ]
  },
  {
   "cell_type": "code",
   "execution_count": 8,
   "metadata": {},
   "outputs": [],
   "source": [
    "test_dg=nx.from_numpy_array(A, create_using=nx.DiGraph)"
   ]
  },
  {
   "cell_type": "code",
   "execution_count": 9,
   "metadata": {},
   "outputs": [
    {
     "data": {
      "image/png": "[encoded data removed]",
      "text/plain": [
       "<Figure size 640x480 with 1 Axes>"
      ]
     },
     "metadata": {},
     "output_type": "display_data"
    }
   ],
   "source": [
    "nx.draw(test_dg, with_labels=True)"
   ]
  },
  {
   "cell_type": "markdown",
   "metadata": {},
   "source": [
    "The `nx.overall_reciprocity` calculates the reciprocity using:\n",
    "\n",
    "$$r=\\frac{L^{\\longleftrightarrow}}{L}=\\frac{1}{m}*TrA^2$$\n",
    "\n",
    "however, you can use the following to determine the reciprocity and this is what the function does:\n",
    "\n",
    "```\n",
    "n_all_edge = G.number_of_edges()\n",
    "n_overlap_edge = (n_all_edge - G.to_undirected().number_of_edges()) * 2\n",
    "return n_overlap_edge / n_all_edge\n",
    "```\n",
    "\n",
    "This is clever, it takes all the edges and subtracts the number of edges if the directed graph is not directed. This will give you \"(The number of reciprocal links)/2\" so you need to multiply by two."
   ]
  },
  {
   "cell_type": "code",
   "execution_count": 10,
   "metadata": {},
   "outputs": [
    {
     "data": {
      "text/plain": [
       "0.5714285714285714"
      ]
     },
     "execution_count": 10,
     "metadata": {},
     "output_type": "execute_result"
    }
   ],
   "source": [
    "nx.overall_reciprocity(test_dg)"
   ]
  },
  {
   "cell_type": "code",
   "execution_count": 11,
   "metadata": {},
   "outputs": [
    {
     "data": {
      "text/plain": [
       "0.5714285714285714"
      ]
     },
     "execution_count": 11,
     "metadata": {},
     "output_type": "execute_result"
    }
   ],
   "source": [
    "4/7"
   ]
  },
  {
   "cell_type": "code",
   "execution_count": 12,
   "metadata": {},
   "outputs": [
    {
     "data": {
      "text/plain": [
       "-0.16666666666667096"
      ]
     },
     "execution_count": 12,
     "metadata": {},
     "output_type": "execute_result"
    }
   ],
   "source": [
    "nx.degree_assortativity_coefficient(test_dg)"
   ]
  },
  {
   "cell_type": "markdown",
   "metadata": {},
   "source": [
    "I believe these functions do the same thing..."
   ]
  },
  {
   "cell_type": "code",
   "execution_count": 13,
   "metadata": {},
   "outputs": [
    {
     "data": {
      "text/plain": [
       "-0.3335568300628826"
      ]
     },
     "execution_count": 13,
     "metadata": {},
     "output_type": "execute_result"
    }
   ],
   "source": [
    "nx.degree_assortativity_coefficient(dg)"
   ]
  },
  {
   "cell_type": "code",
   "execution_count": 14,
   "metadata": {},
   "outputs": [
    {
     "data": {
      "text/plain": [
       "-0.06222859801835988"
      ]
     },
     "execution_count": 14,
     "metadata": {},
     "output_type": "execute_result"
    }
   ],
   "source": [
    "nx.degree_pearson_correlation_coefficient(dg, weight='weight',x='out',y='in')"
   ]
  },
  {
   "cell_type": "markdown",
   "metadata": {},
   "source": [
    "### Weighted Networks and Strength"
   ]
  },
  {
   "cell_type": "code",
   "execution_count": 15,
   "metadata": {},
   "outputs": [],
   "source": [
    "dic_product_networks = {}\n",
    "\n",
    "commodity_codes = ['09','10','27','29','30','39','52','71','72','84','85','87','90','93']"
   ]
  },
  {
   "cell_type": "code",
   "execution_count": 16,
   "metadata": {},
   "outputs": [],
   "source": [
    "# makes graphs for each product, vertices are countries, links are weighted by value of trade\n",
    "for c in commodity_codes:\n",
    "    dic_product_networks[c] = net_symmetrization('./data/comtrade_trade_data_2003_product_'+c+'.csv', excluded_countries)"
   ]
  },
  {
   "cell_type": "code",
   "execution_count": 21,
   "metadata": {},
   "outputs": [],
   "source": [
    "dg_aggregate = net_symmetrization(\"./data/comtrade_trade_data_total_2003.csv\", excluded_countries)"
   ]
  },
  {
   "cell_type": "code",
   "execution_count": 43,
   "metadata": {},
   "outputs": [],
   "source": [
    "w_tot=0.0\n",
    "for u,v,d  in dg_aggregate.edges(data=True):\n",
    "    w_tot+=d['weight']\n",
    "for u,v,d  in dg_aggregate.edges(data=True):\n",
    "    d['weight']=d['weight']/w_tot"
   ]
  },
  {
   "cell_type": "code",
   "execution_count": 45,
   "metadata": {},
   "outputs": [],
   "source": [
    "for c in commodity_codes:\n",
    "    w_tot=0.0\n",
    "    for u,v,d  in dic_product_networks[c].edges(data=True):\n",
    "        w_tot+=d['weight']\n",
    "    for u,v,d  in dic_product_networks[c].edges(data=True):\n",
    "        d['weight']=d['weight']/w_tot"
   ]
  },
  {
   "cell_type": "code",
   "execution_count": 47,
   "metadata": {},
   "outputs": [
    {
     "name": "stdout",
     "output_type": "stream",
     "text": [
      "09 0.3111 & 3.3572 & 2.5315 & 2.3736\n",
      "10 0.1983 & 5.4569 & 5.9085 & 2.5459\n",
      "27 0.3091 & 3.3208 & 2.6534 & 3.2754\n",
      "29 0.3121 & 3.3461 & 2.3415 & 1.6181\n",
      "30 0.368 & 2.789 & 2.3117 & 1.2546\n",
      "39 0.4943 & 2.0406 & 1.7389 & 1.1325\n",
      "52 0.2882 & 3.5609 & 2.7299 & 2.1028\n",
      "71 0.2865 & 3.6452 & 1.9726 & 2.6578\n",
      "72 0.3102 & 3.3087 & 2.5585 & 1.8352\n",
      "84 0.6202 & 1.6263 & 1.3266 & 1.0207\n",
      "85 0.5973 & 1.6886 & 1.3432 & 1.0648\n",
      "87 0.4486 & 2.2485 & 1.7365 & 1.1052\n",
      "90 0.475 & 2.1419 & 1.5751 & 1.0934\n",
      "93 0.1431 & 8.3627 & 6.0933 & 3.9946\n"
     ]
    }
   ],
   "source": [
    "density_aggregate=dg_aggregate.number_of_edges() / \\\n",
    "(dg_aggregate.number_of_nodes()*(dg_aggregate.number_of_nodes()-1.0))\n",
    "\n",
    "w_agg=[]\n",
    "ns_in=[]\n",
    "ns_out=[]\n",
    "for u,v,d in dg_aggregate.edges(data=True):\n",
    "    w_agg.append(d['weight'])\n",
    "for n in dg_aggregate.nodes():\n",
    "    if dg_aggregate.in_degree(n)>0:\n",
    "        ns_in.append(dg_aggregate.in_degree(n,weight='weight')/ \\\n",
    "                     dg_aggregate.in_degree(n))\n",
    "    if dg_aggregate.out_degree(n)>0:\n",
    "        ns_out.append(dg_aggregate.out_degree(n,weight='weight')/ \\\n",
    "                      dg_aggregate.out_degree(n))\n",
    "    \n",
    "for c in commodity_codes:\n",
    "    density_commodity=dic_product_networks[c].number_of_edges() / \\\n",
    "    (dic_product_networks[c].number_of_nodes()* \\\n",
    "    (dic_product_networks[c].number_of_nodes()-1.0))\n",
    "    w_c=[]\n",
    "    NS_c_in=[]\n",
    "    NS_c_out=[]\n",
    "    for u,v,d  in dic_product_networks[c].edges(data=True):\n",
    "        w_c.append(d['weight'])\n",
    "    for n in dic_product_networks[c].nodes():\n",
    "        if dic_product_networks[c].in_degree(n)>0:\n",
    "            NS_c_in.append(dic_product_networks[c].in_degree (n, \\\n",
    "            weight='weight')/dic_product_networks[c].in_degree(n))\n",
    "        if dic_product_networks[c].out_degree(n)>0:\n",
    "            NS_c_out.append(dic_product_networks[c].out_degree(n, \\\n",
    "            weight='weight')/dic_product_networks[c].out_degree(n))\n",
    "\n",
    "    print(c,str(round(density_commodity/density_aggregate,4))+ \\\n",
    "    \" & \"+str(round(mean(w_c)/mean(w_agg),4))+\" & \"+ \\\n",
    "    str(round(mean(NS_c_in)/mean(ns_in),4))+\" & \"+ \\\n",
    "    str(round(mean(NS_c_out)/mean(ns_out),4)))"
   ]
  },
  {
   "cell_type": "code",
   "execution_count": null,
   "metadata": {},
   "outputs": [],
   "source": []
  }
 ],
 "metadata": {
  "kernelspec": {
   "display_name": ".venv",
   "language": "python",
   "name": "python3"
  },
  "language_info": {
   "codemirror_mode": {
    "name": "ipython",
    "version": 3
   },
   "file_extension": ".py",
   "mimetype": "text/x-python",
   "name": "python",
   "nbconvert_exporter": "python",
   "pygments_lexer": "ipython3",
   "version": "3.11.4"
  },
  "orig_nbformat": 4
 },
 "nbformat": 4,
 "nbformat_minor": 2
}
